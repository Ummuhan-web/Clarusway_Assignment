{
 "cells": [
  {
   "cell_type": "code",
   "execution_count": 9,
   "metadata": {},
   "outputs": [
    {
     "output_type": "stream",
     "name": "stdout",
     "text": "Please enter a digit number: \nthis 2020 year is a leap year\n"
    }
   ],
   "source": [
    "while True:\n",
    " ly = input('Please enter a year: ').strip()\n",
    " if not ly.isdigit():\n",
    "  print('Please enter a digit number: ')\n",
    "  continue \n",
    " if (int(ly)%4 == 0 or int(ly)%400 == 0) and int(ly)%100 != 0:\n",
    "  print(f'this {ly} year is a leap year')\n",
    "  break  \n",
    " else:\n",
    "  print(f'This {ly} year is not a leap year') \n",
    "  break "
   ]
  },
  {
   "cell_type": "code",
   "execution_count": null,
   "metadata": {},
   "outputs": [],
   "source": []
  }
 ],
 "metadata": {
  "language_info": {
   "codemirror_mode": {
    "name": "ipython",
    "version": 3
   },
   "file_extension": ".py",
   "mimetype": "text/x-python",
   "name": "python",
   "nbconvert_exporter": "python",
   "pygments_lexer": "ipython3",
   "version": "3.7.1-final"
  },
  "orig_nbformat": 2,
  "kernelspec": {
   "name": "python3",
   "display_name": "Python 3"
  }
 },
 "nbformat": 4,
 "nbformat_minor": 2
}