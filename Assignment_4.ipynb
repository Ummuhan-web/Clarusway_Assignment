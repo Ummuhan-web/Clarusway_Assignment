{
 "cells": [
  {
   "cell_type": "code",
   "execution_count": null,
   "metadata": {},
   "outputs": [],
   "source": [
    "while True:\n",
    "   number = input('Please enter a number biger than one: ')\n",
    "   if not number.isdigit():\n",
    "     print('Please enter a digit number: ')\n",
    "     continue \n",
    "   if int(number)>1:\n",
    "     for i in range(2, int(number)):\n",
    "      if int(number)%i == 0:\n",
    "       print(number,'is not a prime number.')\n",
    "       break\n",
    "     else:\n",
    "       print(number, 'is a prime number.')\n",
    "       break"
   ]
  },
  {
   "cell_type": "code",
   "execution_count": null,
   "metadata": {},
   "outputs": [],
   "source": []
  }
 ],
 "metadata": {
  "language_info": {
   "codemirror_mode": {
    "name": "ipython",
    "version": 3
   },
   "file_extension": ".py",
   "mimetype": "text/x-python",
   "name": "python",
   "nbconvert_exporter": "python",
   "pygments_lexer": "ipython3",
   "version": 3
  },
  "orig_nbformat": 2
 },
 "nbformat": 4,
 "nbformat_minor": 2
}