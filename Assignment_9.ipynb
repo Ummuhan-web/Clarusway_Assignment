{
 "cells": [
  {
   "cell_type": "code",
   "execution_count": 3,
   "metadata": {},
   "outputs": [
    {
     "output_type": "stream",
     "name": "stdout",
     "text": "{'Y': 1, 'o': 2, 'u': 1, \"'\": 1, 'a': 1, 'r': 1, 'e': 3, 'w': 1, 'l': 1, 'c': 1, 'm': 1, '!': 1}\n"
    }
   ],
   "source": [
    "sentence = input(\"Please enter a sentence\").strip()\n",
    "count_num = {}\n",
    "for i in sentence:\n",
    "  if i == ' ':\n",
    "   continue\n",
    "  count_num.update({i:sentence.count(i)}) \n",
    "print(count_num)   \n",
    " \n"
   ]
  },
  {
   "cell_type": "code",
   "execution_count": null,
   "metadata": {},
   "outputs": [],
   "source": []
  }
 ],
 "metadata": {
  "language_info": {
   "codemirror_mode": {
    "name": "ipython",
    "version": 3
   },
   "file_extension": ".py",
   "mimetype": "text/x-python",
   "name": "python",
   "nbconvert_exporter": "python",
   "pygments_lexer": "ipython3",
   "version": "3.7.1-final"
  },
  "orig_nbformat": 2,
  "kernelspec": {
   "name": "python3",
   "display_name": "Python 3"
  }
 },
 "nbformat": 4,
 "nbformat_minor": 2
}