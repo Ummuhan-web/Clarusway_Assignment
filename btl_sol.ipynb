{
 "cells": [
  {
   "cell_type": "code",
   "execution_count": 2,
   "metadata": {},
   "outputs": [
    {
     "output_type": "stream",
     "name": "stdout",
     "text": "1\n"
    }
   ],
   "source": [
    "while True:\n",
    "    list1=[0,1,2,3,4,5,6,7,8,9]\n",
    "    x = [int(x) for x in input(\"Enter multiple value: \").split()]\n",
    "    for item in x:\n",
    "        if item<len(list1):\n",
    "            print(list1[item])\n",
    "        else:\n",
    "            print(\" Out of range \")   \n",
    "    break"
   ]
  },
  {
   "cell_type": "code",
   "execution_count": 5,
   "metadata": {},
   "outputs": [
    {
     "output_type": "stream",
     "name": "stdout",
     "text": "['I', 'love', 'you']\nI love you\nI   l o v e   y o u\n['I', 'love', 'you']\n"
    }
   ],
   "source": [
    "ls = \"I love you\"\n",
    "print(ls.split())\n",
    "print(*ls.split())\n",
    "print(*ls)\n"
   ]
  },
  {
   "cell_type": "code",
   "execution_count": null,
   "metadata": {},
   "outputs": [],
   "source": []
  }
 ],
 "metadata": {
  "language_info": {
   "codemirror_mode": {
    "name": "ipython",
    "version": 3
   },
   "file_extension": ".py",
   "mimetype": "text/x-python",
   "name": "python",
   "nbconvert_exporter": "python",
   "pygments_lexer": "ipython3",
   "version": "3.7.1-final"
  },
  "orig_nbformat": 2,
  "kernelspec": {
   "name": "python3",
   "display_name": "Python 3"
  }
 },
 "nbformat": 4,
 "nbformat_minor": 2
}