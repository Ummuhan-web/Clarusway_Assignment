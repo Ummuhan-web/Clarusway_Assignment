{
 "cells": [
  {
   "cell_type": "code",
   "execution_count": 3,
   "metadata": {},
   "outputs": [
    {
     "output_type": "error",
     "ename": "IndentationError",
     "evalue": "unexpected indent (<ipython-input-3-b8a3705e7f41>, line 2)",
     "traceback": [
      "\u001b[0;36m  File \u001b[0;32m\"<ipython-input-3-b8a3705e7f41>\"\u001b[0;36m, line \u001b[0;32m2\u001b[0m\n\u001b[0;31m    index = len(number)\u001b[0m\n\u001b[0m    ^\u001b[0m\n\u001b[0;31mIndentationError\u001b[0m\u001b[0;31m:\u001b[0m unexpected indent\n"
     ]
    }
   ],
   "source": [
    "number = input('Please enter a positive integer number ')\n",
    "  index = len(number)\n",
    "  Armstrong_number= int(number[index])**3\n",
    "  while index <= 0:\n",
    "   print(total_num)\n",
    "   index -= 1\n",
    "   total_number += 1\n"
   ]
  },
  {
   "cell_type": "code",
   "execution_count": null,
   "metadata": {},
   "outputs": [],
   "source": [
    "number = input('Please enter a positive integer number ')\n",
    "Armstrong_number = int(number[0])**3 + int(number[1])**3 + int(number[2])**3 \n",
    "if Armstrong_number == number:\n",
    "  print('This is a Armstrong_number')\n",
    "else:\n",
    "  print('This is not')"
   ]
  },
  {
   "cell_type": "code",
   "execution_count": 28,
   "metadata": {},
   "outputs": [
    {
     "output_type": "stream",
     "name": "stdout",
     "text": "Enter a posive number or 0\nthis is not\n"
    }
   ],
   "source": [
    "while True:\n",
    " number = input('Please enter a positive integer number ')\n",
    " #print(number.isdigit())\n",
    " if not number.isdigit():\n",
    "     print('Enter a posive number or 0')\n",
    "     continue\n",
    " n= len(number)\n",
    " total = 0\n",
    "#total  = int(number[0])**n + int(number[1])**n + int(number[2])**n + int(number[3])**n\n",
    " for i in range(n):\n",
    "    total += int(number[i])**n\n",
    "\n",
    " if int(number) == total:\n",
    "    print(\"this armstrong number\")\n",
    "    break\n",
    " else:\n",
    "    print(\"this is not\") \n",
    "    break "
   ]
  },
  {
   "cell_type": "code",
   "execution_count": 29,
   "metadata": {},
   "outputs": [
    {
     "output_type": "error",
     "ename": "TypeError",
     "evalue": "unhashable type: 'list'",
     "traceback": [
      "\u001b[0;31m---------------------------------------------------------------------------\u001b[0m",
      "\u001b[0;31mTypeError\u001b[0m                                 Traceback (most recent call last)",
      "\u001b[0;32m<ipython-input-29-4dd6e212a7f8>\u001b[0m in \u001b[0;36m<module>\u001b[0;34m\u001b[0m\n\u001b[1;32m      1\u001b[0m \u001b[0mx\u001b[0m \u001b[0;34m=\u001b[0m \u001b[0;34m[\u001b[0m\u001b[0;34m(\u001b[0m\u001b[0;34m[\u001b[0m\u001b[0;36m1\u001b[0m\u001b[0;34m,\u001b[0m \u001b[0;36m2\u001b[0m\u001b[0;34m]\u001b[0m\u001b[0;34m,\u001b[0m \u001b[0;34m[\u001b[0m\u001b[0;36m3\u001b[0m\u001b[0;34m,\u001b[0m \u001b[0;36m4\u001b[0m\u001b[0;34m,\u001b[0m \u001b[0;36m5\u001b[0m\u001b[0;34m]\u001b[0m\u001b[0;34m,\u001b[0m \u001b[0;34m(\u001b[0m\u001b[0;36m6\u001b[0m\u001b[0;34m,\u001b[0m \u001b[0;36m7\u001b[0m\u001b[0;34m)\u001b[0m\u001b[0;34m)\u001b[0m\u001b[0;34m]\u001b[0m\u001b[0;34m\u001b[0m\u001b[0;34m\u001b[0m\u001b[0m\n\u001b[0;32m----> 2\u001b[0;31m \u001b[0mprint\u001b[0m\u001b[0;34m(\u001b[0m\u001b[0mset\u001b[0m\u001b[0;34m(\u001b[0m\u001b[0mx\u001b[0m\u001b[0;34m)\u001b[0m\u001b[0;34m)\u001b[0m\u001b[0;34m\u001b[0m\u001b[0;34m\u001b[0m\u001b[0m\n\u001b[0m",
      "\u001b[0;31mTypeError\u001b[0m: unhashable type: 'list'"
     ]
    }
   ],
   "source": [
    "x = [([1, 2], [3, 4, 5], (6, 7))]\n",
    "print(set(x))"
   ]
  },
  {
   "cell_type": "code",
   "execution_count": 53,
   "metadata": {},
   "outputs": [
    {
     "output_type": "stream",
     "name": "stdout",
     "text": "[['eateat'], ['eattea'], ['eatate'], ['teaeat'], ['teatea'], ['teaate'], ['tantan'], ['tannat'], ['ateeat'], ['atetea'], ['ateate'], ['nattan'], ['natnat'], ['batbat']]\n"
    }
   ],
   "source": [
    "w = [\"eat\", \"tea\", \"tan\", \"ate\", \"nat\", \"bat\"]\n",
    "lst = []\n",
    "for i in range(len(w)):\n",
    " for ii in range(len(w)):\n",
    "  if set(w[i])==set(w[ii]):\n",
    "   lst.append([w[i]+w[ii]]) \n",
    "print(lst)        "
   ]
  },
  {
   "cell_type": "code",
   "execution_count": 97,
   "metadata": {
    "tags": [
     "outputPrepend"
    ]
   },
   "outputs": [
    {
     "output_type": "stream",
     "name": "stdout",
     "text": "['eat', 'tea', 'ate', 'eat', 'tea', 'ate', 'tan', 'nat', 'eat', 'tea', 'ate', 'tan', 'nat', 'bat']\n['eat', 'tea', 'ate', 'eat', 'tea', 'ate', 'tan', 'nat', 'eat', 'tea', 'ate', 'tan', 'nat', 'bat']\n['eat', 'tea', 'ate', 'eat', 'tea', 'ate', 'tan', 'nat', 'eat', 'tea', 'ate', 'tan', 'nat', 'bat']\n['eat', 'tea', 'ate', 'eat', 'tea', 'ate', 'tan', 'nat', 'eat', 'tea', 'ate', 'tan', 'nat', 'bat']\n['eat', 'tea', 'ate', 'eat', 'tea', 'ate', 'tan', 'nat', 'eat', 'tea', 'ate', 'tan', 'nat', 'bat']\n['eat', 'tea', 'ate', 'eat', 'tea', 'ate', 'tan', 'nat', 'eat', 'tea', 'ate', 'tan', 'nat', 'bat']\n"
    }
   ],
   "source": [
    "w = [\"eat\", \"tea\", \"tan\", \"ate\", \"nat\", \"bat\"]\n",
    "#wset = set(w)\n",
    "#print(wset)\n",
    "#w1 = [[]]\n",
    "for r in range(len(w)):\n",
    " print([j for i in w for j in w if set(i)==set(j)])\n",
    "\n"
   ]
  },
  {
   "cell_type": "code",
   "execution_count": 59,
   "metadata": {},
   "outputs": [
    {
     "output_type": "execute_result",
     "data": {
      "text/plain": "[[1, 2, 3], [1, 3, 2], [2, 1, 3], [2, 3, 1], [3, 1, 2], [3, 2, 1]]"
     },
     "metadata": {},
     "execution_count": 59
    }
   ],
   "source": [
    "\n",
    "for index in range(len(num)):\n",
    "    solution = [i + [j] for i in solution for j in nums_set.difference(set(i))]\n",
    "solution"
   ]
  },
  {
   "cell_type": "code",
   "execution_count": 89,
   "metadata": {},
   "outputs": [
    {
     "output_type": "stream",
     "name": "stdout",
     "text": "{1, 2, 3, 4, 5, 6}\n"
    }
   ],
   "source": [
    "x = [([1], [2, 3], (4, 5, 6))]\n",
    "y = []\n",
    "#esired out → {1, 2, 3, 4, 5, 6}\n",
    "for i in x:\n",
    " for j in i:\n",
    "  for k in j:\n",
    "   y.append(k)   \n",
    "print(set(y))      \n",
    "   "
   ]
  },
  {
   "cell_type": "code",
   "execution_count": 91,
   "metadata": {},
   "outputs": [
    {
     "output_type": "stream",
     "name": "stdout",
     "text": "{1, 2, 3, 4, 5, 6}\n"
    }
   ],
   "source": [
    "z = [k for i in x for j in i for k in j]\n",
    "print(set(z))"
   ]
  },
  {
   "cell_type": "code",
   "execution_count": 95,
   "metadata": {},
   "outputs": [
    {
     "output_type": "stream",
     "name": "stdout",
     "text": "([1], [2, 3], (4, 5, 6))\n"
    }
   ],
   "source": [
    "x = [([1], [2, 3], (4, 5, 6))]\n",
    "print(*x)"
   ]
  },
  {
   "cell_type": "code",
   "execution_count": null,
   "metadata": {},
   "outputs": [],
   "source": [
    "strs = [\"eat\", \"tea\", \"tan\", \"ate\", \"nat\", \"bat\"]\n",
    "anag = {}\n",
    "for i in strs:\n",
    "    if \"\".join(sorted(i)) in anag:\n",
    "        anag[\"\".join(sorted(i))].append(i)\n",
    "    else:\n",
    "        anag[\"\".join(sorted(i))] = [i]\n",
    "print(list(anag.values()))\n",
    "\n",
    "\n",
    "#anag[key]=value Dictionary'ye bu şekilde ekleme yapıloyor.anag.values() kısmında da sadece value gösterilmiş oluyor"
   ]
  }
 ],
 "metadata": {
  "language_info": {
   "codemirror_mode": {
    "name": "ipython",
    "version": 3
   },
   "file_extension": ".py",
   "mimetype": "text/x-python",
   "name": "python",
   "nbconvert_exporter": "python",
   "pygments_lexer": "ipython3",
   "version": "3.8.2-final"
  },
  "orig_nbformat": 2,
  "kernelspec": {
   "name": "python38264bit8a1f4728c7454cfab98375b57da9d52d",
   "display_name": "Python 3.8.2 64-bit"
  }
 },
 "nbformat": 4,
 "nbformat_minor": 2
}