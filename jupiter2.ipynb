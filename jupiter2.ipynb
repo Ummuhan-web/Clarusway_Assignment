{
 "cells": [
  {
   "cell_type": "code",
   "execution_count": null,
   "metadata": {},
   "outputs": [],
   "source": [
    "number = input('Please enter a positive integer number ')\n",
    "  index = len(number)\n",
    "  Armstrong_number= int(number[index])**3\n",
    "  while index <= 0:\n",
    "      print(total_num)\n",
    "      index -= 1\n",
    "      total_number += 1\n"
   ]
  },
  {
   "cell_type": "code",
   "execution_count": null,
   "metadata": {},
   "outputs": [],
   "source": [
    "number = input('Please enter a positive integer number ')\n",
    "Armstrong_number = int(number[0])**3 + int(number[1])**3 + int(number[2])**3 \n",
    "if Armstrong_number == number:\n",
    "  print('This is a Armstrong_number')\n",
    "else:\n",
    "  print('This is not')"
   ]
  },
  {
   "cell_type": "code",
   "execution_count": 28,
   "metadata": {},
   "outputs": [
    {
     "output_type": "stream",
     "name": "stdout",
     "text": "Enter a posive number or 0\nthis is not\n"
    }
   ],
   "source": [
    "while True:\n",
    " number = input('Please enter a positive integer number ')\n",
    " #print(number.isdigit())\n",
    " if not number.isdigit():\n",
    "     print('Enter a posive number or 0')\n",
    "     continue\n",
    " n= len(number)\n",
    " total = 0\n",
    "#total  = int(number[0])**n + int(number[1])**n + int(number[2])**n + int(number[3])**n\n",
    " for i in range(n):\n",
    "    total += int(number[i])**n\n",
    "\n",
    " if int(number) == total:\n",
    "    print(\"this armstrong number\")\n",
    "    break\n",
    " else:\n",
    "    print(\"this is not\") \n",
    "    break "
   ]
  },
  {
   "cell_type": "code",
   "execution_count": null,
   "metadata": {},
   "outputs": [],
   "source": [
    "n"
   ]
  }
 ],
 "metadata": {
  "language_info": {
   "codemirror_mode": {
    "name": "ipython",
    "version": 3
   },
   "file_extension": ".py",
   "mimetype": "text/x-python",
   "name": "python",
   "nbconvert_exporter": "python",
   "pygments_lexer": "ipython3",
   "version": "3.8.2-final"
  },
  "orig_nbformat": 2,
  "kernelspec": {
   "name": "python38264bit8a1f4728c7454cfab98375b57da9d52d",
   "display_name": "Python 3.8.2 64-bit"
  }
 },
 "nbformat": 4,
 "nbformat_minor": 2
}