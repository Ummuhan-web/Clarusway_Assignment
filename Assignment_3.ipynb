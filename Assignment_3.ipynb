{
 "cells": [
  {
   "cell_type": "code",
   "execution_count": null,
   "metadata": {},
   "outputs": [],
   "source": [
    "while True:\n",
    "    number = input('Please enter a positve integer number')\n",
    "    if not number.isdigit():\n",
    "        print('Enter a positive number or 0')\n",
    "        continue\n",
    "    n=len(number)\n",
    "    total=0\n",
    "        #total = int(number[0])**n + int(number[1])**n+ int(number[2])**n +int(number[3])**n\n",
    "    for i in range(n):\n",
    "        total += int(number[i])**n\n",
    "        #print(total)\n",
    "    if int(number) == total:\n",
    "        print(number,'this is a armstrong number')"
   ]
  }
 ],
 "metadata": {
  "language_info": {
   "codemirror_mode": {
    "name": "ipython",
    "version": 3
   },
   "file_extension": ".py",
   "mimetype": "text/x-python",
   "name": "python",
   "nbconvert_exporter": "python",
   "pygments_lexer": "ipython3",
   "version": 3
  },
  "orig_nbformat": 2
 },
 "nbformat": 4,
 "nbformat_minor": 2
}